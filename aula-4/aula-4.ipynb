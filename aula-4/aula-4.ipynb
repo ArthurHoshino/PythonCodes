{
 "cells": [
  {
   "cell_type": "markdown",
   "metadata": {},
   "source": [
    "### Observações\n",
    "* TV, jornal e rádio estão em milhares\n",
    "* As vendas estão em milhões"
   ]
  },
  {
   "cell_type": "code",
   "execution_count": null,
   "metadata": {},
   "outputs": [],
   "source": [
    "# Passo a passo de um projeto de ciência de dados\n",
    "# Passo 1: Entendimento do desafio\n",
    "# Passo 2: Entendimento da área/empresa\n",
    "# Passo 3: Entração/Obtenção de dados\n",
    "# Passo 4: Tratamento dos dados\n",
    "# Passo 5: Análise exploratória\n",
    "# Passo 6: Modelagem + algoritmos (com IA SE necessário)\n",
    "# Passo 7: Interpretação dos resultados\n",
    "\n",
    "import pandas as pd\n",
    "import matplotlib.pyplot as plt\n",
    "import seaborn as sns\n",
    "\n",
    "tabela = pd.read_csv(\"advertising.csv\")\n",
    "# display(tabela.corr()) # analisar a correlação dos elementos\n",
    "\n",
    "# criar o gráfico com o seaborn\n",
    "sns.heatmap(tabela.corr(), cmap=\"Wistia\", annot=True)\n",
    "\n",
    "# exibir o gráfico com matplotlib\n",
    "# plt.show(teste)"
   ]
  },
  {
   "cell_type": "code",
   "execution_count": null,
   "metadata": {},
   "outputs": [],
   "source": [
    "# vamos começar a ver a parte da IA\n",
    "\n",
    "# x -> informações usadas para a previsão\n",
    "# y -> quem você quer prever\n",
    "x = tabela[[\"TV\", \"Radio\", \"Jornal\"]]\n",
    "y = tabela[\"Vendas\"]\n",
    "\n",
    "from sklearn.model_selection import train_test_split\n",
    "\n",
    "x_treino, x_teste, y_treino, y_teste = train_test_split(x, y, test_size=0.3)\n",
    "# vamos dividir cada grupo em dois, que vai formar as informações que servirão\n",
    "# para aprendizado e aqueles para teste do aprendizado\n",
    "# sim, a ordem das variáveis importa"
   ]
  },
  {
   "cell_type": "code",
   "execution_count": null,
   "metadata": {},
   "outputs": [],
   "source": [
    "# temos duas formas de criar a IA\n",
    "# importa a IA\n",
    "from sklearn.linear_model import LinearRegression\n",
    "from sklearn.ensemble import RandomForestRegressor\n",
    "\n",
    "# cria a IA\n",
    "modelo_regressaoLinear = LinearRegression()\n",
    "modelo_arvoreDecisao = RandomForestRegressor()\n",
    "\n",
    "# treina a IA\n",
    "modelo_regressaoLinear.fit(x_treino, y_treino)\n",
    "modelo_arvoreDecisao.fit(x_treino, y_treino)"
   ]
  },
  {
   "cell_type": "code",
   "execution_count": null,
   "metadata": {},
   "outputs": [],
   "source": [
    "# fazer a previsão dos testes\n",
    "\n",
    "previsao_regressaoLinear = modelo_regressaoLinear.predict(x_teste)\n",
    "previsao_arvoreDecisao = modelo_arvoreDecisao.predict(x_teste)\n",
    "\n",
    "from sklearn.metrics import r2_score\n",
    "\n",
    "print(r2_score(y_teste, previsao_regressaoLinear))\n",
    "print(r2_score(y_teste, previsao_arvoreDecisao))"
   ]
  },
  {
   "cell_type": "code",
   "execution_count": null,
   "metadata": {},
   "outputs": [],
   "source": [
    "# gráficos\n",
    "tabela_auxiliar = pd.DataFrame()\n",
    "tabela_auxiliar[\"y_teste\"] = y_teste\n",
    "tabela_auxiliar[\"arvore decisao\"] = previsao_arvoreDecisao\n",
    "tabela_auxiliar[\"regrassao linear\"] = previsao_regressaoLinear\n",
    "\n",
    "plt.figure(figsize=(15, 6))\n",
    "sns.lineplot(data=tabela_auxiliar)"
   ]
  },
  {
   "cell_type": "code",
   "execution_count": null,
   "metadata": {},
   "outputs": [],
   "source": [
    "# se for testar por você\n",
    "nova_tabela = pd.read_csv(\"novos.csv\")\n",
    "display(nova_tabela)"
   ]
  }
 ],
 "metadata": {
  "kernelspec": {
   "display_name": "Python 3.10.4 64-bit",
   "language": "python",
   "name": "python3"
  },
  "language_info": {
   "codemirror_mode": {
    "name": "ipython",
    "version": 3
   },
   "file_extension": ".py",
   "mimetype": "text/x-python",
   "name": "python",
   "nbconvert_exporter": "python",
   "pygments_lexer": "ipython3",
   "version": "3.10.4"
  },
  "orig_nbformat": 4,
  "vscode": {
   "interpreter": {
    "hash": "369f2c481f4da34e4445cda3fffd2e751bd1c4d706f27375911949ba6bb62e1c"
   }
  }
 },
 "nbformat": 4,
 "nbformat_minor": 2
}

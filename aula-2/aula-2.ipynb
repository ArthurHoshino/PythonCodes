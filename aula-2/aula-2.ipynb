{
 "cells": [
  {
   "cell_type": "code",
   "execution_count": null,
   "metadata": {},
   "outputs": [],
   "source": [
    "import pandas as pd\n",
    "import plotly.express as px\n",
    "\n",
    "tabela = pd.read_csv(\"telecom_users.csv\")\n",
    "\n",
    "# excluir colunas inúteis para nós\n",
    "# axis = 0 -> eixo x\n",
    "# axis = 1 -> eixo y\n",
    "tabela = tabela.drop(\"Unnamed: 0\", axis=1) # retirar a coluna que não nos ajuda em nada\n",
    "tabela = tabela.drop(\"IDCliente\", axis=1)\n",
    "\n",
    "tabela[\"TotalGasto\"] = pd.to_numeric(tabela[\"TotalGasto\"], errors=\"coerce\") # força a alteração de tipo de dado\n",
    "tabela = tabela.dropna(how=\"all\", axis=1) # excluir qualquer coluna completamente vazia\n",
    "tabela = tabela.dropna(how=\"any\", axis=0) # excluir qualquer linha com inforamação vazia\n",
    "\n",
    "print(tabela[\"Churn\"].value_counts()) # mostra em números\n",
    "print(tabela[\"Churn\"].value_counts(normalize=True)) # mostra em decimal (que você pode transformar para porcentagem)\n",
    "\n",
    "# Criar gráfico\n",
    "for coluna in tabela.columns:\n",
    "    grafico = px.histogram(tabela, x=coluna, color=\"Churn\", text_auto=True)\n",
    "    grafico.show()"
   ]
  },
  {
   "cell_type": "markdown",
   "metadata": {},
   "source": [
    "## Conclusões\n",
    "\n",
    "- Clientes que estão há pouco tempo estão cancelando muito\n",
    "    > Podemos fazer alguma promoção, dando o primeiro mês de graça <br>\n",
    "    > O início do serviço para o cliente está sendo confuso <br>\n",
    "    > A primeira experiência do cliente está ruim <br>\n",
    "    > Criar incentivos nos primeiros meses - primeiro ano mais barato, por exemplo <br>\n",
    "\n",
    "- Boleto eletrônico possui maior taxa de cancelamento\n",
    "    > Oferecer desconto nas outras formas de pagamento\n",
    "\n",
    "- Clientes com contrato mensal tendem a cancelar mais\n",
    "    > Oferecer desconto nos planos anuais ou para mais tempo\n",
    "\n",
    "- Quanto menos serviços o cliente tem disponível, maior a chance de cancelar\n",
    "    > Oferecer alguns serviços extras quase de graça\n",
    "\n",
    "- Clientes com mais linhas, com família maior tem menor chance de cancelar\n",
    "    > Oferecer uma segunda linha de graça ou desconto"
   ]
  }
 ],
 "metadata": {
  "kernelspec": {
   "display_name": "Python 3.10.4 64-bit",
   "language": "python",
   "name": "python3"
  },
  "language_info": {
   "codemirror_mode": {
    "name": "ipython",
    "version": 3
   },
   "file_extension": ".py",
   "mimetype": "text/x-python",
   "name": "python",
   "nbconvert_exporter": "python",
   "pygments_lexer": "ipython3",
   "version": "3.10.4"
  },
  "orig_nbformat": 4,
  "vscode": {
   "interpreter": {
    "hash": "369f2c481f4da34e4445cda3fffd2e751bd1c4d706f27375911949ba6bb62e1c"
   }
  }
 },
 "nbformat": 4,
 "nbformat_minor": 2
}
